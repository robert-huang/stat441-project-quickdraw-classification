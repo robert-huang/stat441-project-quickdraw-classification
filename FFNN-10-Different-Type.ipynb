{
 "cells": [
  {
   "cell_type": "code",
   "execution_count": 1,
   "metadata": {},
   "outputs": [
    {
     "name": "stderr",
     "output_type": "stream",
     "text": [
      "C:\\Anaconda3\\lib\\site-packages\\h5py\\__init__.py:36: FutureWarning: Conversion of the second argument of issubdtype from `float` to `np.floating` is deprecated. In future, it will be treated as `np.float64 == np.dtype(float).type`.\n",
      "  from ._conv import register_converters as _register_converters\n",
      "Using TensorFlow backend.\n"
     ]
    }
   ],
   "source": [
    "import numpy as np\n",
    "import keras.utils.np_utils as kutils\n",
    "from sklearn.model_selection import train_test_split\n",
    "import keras.callbacks as callbacks\n",
    "from keras.preprocessing.image import ImageDataGenerator\n",
    "from keras.callbacks import LearningRateScheduler, ModelCheckpoint\n",
    "from keras.utils import plot_model\n",
    "from keras.optimizers import SGD"
   ]
  },
  {
   "cell_type": "code",
   "execution_count": 3,
   "metadata": {},
   "outputs": [],
   "source": [
    "airplane = np.load('airplane.npy')\n",
    "axe = np.load('axe.npy')\n",
    "bed = np.load('bed.npy')\n",
    "bicycle = np.load('bicycle.npy')\n",
    "butterfly = np.load('butterfly.npy')\n",
    "envelope = np.load('envelope.npy')\n",
    "knife = np.load('knife.npy')\n",
    "square = np.load('square.npy')\n",
    "star = np.load('star.npy')\n",
    "donut = np.load('donut.npy')"
   ]
  },
  {
   "cell_type": "code",
   "execution_count": 4,
   "metadata": {},
   "outputs": [],
   "source": [
    "airplane = np.c_[airplane, np.zeros(airplane.shape[0])]\n",
    "axe = np.c_[axe, np.ones(axe.shape[0])]\n",
    "bed = np.c_[bed, np.ones(bed.shape[0])*2]\n",
    "bicycle  = np.c_[bicycle , np.ones(bicycle .shape[0])*3]\n",
    "butterfly = np.c_[butterfly, np.ones(butterfly.shape[0])*4]\n",
    "envelope  = np.c_[envelope, np.ones(envelope.shape[0])*5]\n",
    "knife = np.c_[knife, np.ones(knife.shape[0])*6]\n",
    "square = np.c_[square, np.ones(square.shape[0])*7]\n",
    "star = np.c_[star, np.ones(star.shape[0])*8]\n",
    "donut = np.c_[donut, np.ones(donut.shape[0])*9]"
   ]
  },
  {
   "cell_type": "code",
   "execution_count": 5,
   "metadata": {},
   "outputs": [],
   "source": [
    "Data = np.concatenate((airplane, axe,bed,bicycle ,butterfly,envelope,knife,square,star,donut),axis=0)\n",
    "del airplane,axe,bed,bicycle ,butterfly,envelope,knife,square,star,donut\n",
    "X = Data[:,0:784]\n",
    "Y = Data[:,784]\n",
    "del Data"
   ]
  },
  {
   "cell_type": "code",
   "execution_count": 6,
   "metadata": {},
   "outputs": [],
   "source": [
    "X_train, X_test, Y_train, Y_test = train_test_split(X,Y, test_size=0.2, random_state=42)"
   ]
  },
  {
   "cell_type": "code",
   "execution_count": 7,
   "metadata": {},
   "outputs": [],
   "source": [
    "del X, Y"
   ]
  },
  {
   "cell_type": "code",
   "execution_count": 8,
   "metadata": {},
   "outputs": [],
   "source": [
    "X_train = X_train.astype('float32')\n",
    "X_test = X_test.astype('float32')\n",
    "X_train = X_train / 255.\n",
    "X_test = X_test / 255."
   ]
  },
  {
   "cell_type": "code",
   "execution_count": 9,
   "metadata": {},
   "outputs": [],
   "source": [
    "y_train = kutils.to_categorical(Y_train)\n",
    "y_test = kutils.to_categorical(Y_test)"
   ]
  },
  {
   "cell_type": "code",
   "execution_count": 10,
   "metadata": {},
   "outputs": [],
   "source": [
    "X_train,X_valid,y_train,y_valid = train_test_split(X_train, y_train, test_size=0.1, random_state=13)"
   ]
  },
  {
   "cell_type": "code",
   "execution_count": 11,
   "metadata": {},
   "outputs": [
    {
     "data": {
      "text/plain": [
       "(107614, 784)"
      ]
     },
     "execution_count": 11,
     "metadata": {},
     "output_type": "execute_result"
    }
   ],
   "source": [
    "X_valid.shape"
   ]
  },
  {
   "cell_type": "code",
   "execution_count": 12,
   "metadata": {},
   "outputs": [
    {
     "data": {
      "text/plain": [
       "(968519, 10)"
      ]
     },
     "execution_count": 12,
     "metadata": {},
     "output_type": "execute_result"
    }
   ],
   "source": [
    "y_train.shape"
   ]
  },
  {
   "cell_type": "code",
   "execution_count": 13,
   "metadata": {},
   "outputs": [],
   "source": [
    "import keras\n",
    "from keras.models import Sequential,Input,Model\n",
    "from keras.layers import Dense, Dropout, Flatten\n",
    "from keras.layers import Conv2D, MaxPooling2D\n",
    "from keras.layers.normalization import BatchNormalization\n",
    "from keras.layers.advanced_activations import LeakyReLU\n",
    "from keras.layers import Activation"
   ]
  },
  {
   "cell_type": "code",
   "execution_count": 14,
   "metadata": {},
   "outputs": [],
   "source": [
    "batch_size = 128\n",
    "epochs = 50\n",
    "num_classes = 10"
   ]
  },
  {
   "cell_type": "code",
   "execution_count": null,
   "metadata": {},
   "outputs": [],
   "source": [
    "model = Sequential()\n",
    "model.add(Dense(784, input_dim=784, activation=\"linear\", kernel_initializer=\"uniform\"))\n",
    "model.add(LeakyReLU(alpha=0.1))\n",
    "model.add(Dense(784, activation=\"linear\", kernel_initializer=\"uniform\"))\n",
    "model.add(LeakyReLU(alpha=0.1))\n",
    "model.add(Dense(784, activation=\"linear\", kernel_initializer=\"uniform\"))\n",
    "model.add(LeakyReLU(alpha=0.1))\n",
    "model.add(Dense(10))\n",
    "model.add(Activation(\"softmax\"))"
   ]
  },
  {
   "cell_type": "code",
   "execution_count": null,
   "metadata": {},
   "outputs": [
    {
     "name": "stdout",
     "output_type": "stream",
     "text": [
      "Train on 968519 samples, validate on 107614 samples\n",
      "Epoch 1/50\n",
      "968519/968519 [==============================] - 43s 45us/step - loss: 0.2794 - acc: 0.9185 - val_loss: 0.2273 - val_acc: 0.9332\n",
      "\n",
      "Epoch 00001: val_acc improved from -inf to 0.93319, saving model to weights\n",
      "Epoch 2/50\n",
      "968519/968519 [==============================] - 39s 40us/step - loss: 0.2027 - acc: 0.9403 - val_loss: 0.2046 - val_acc: 0.9407\n",
      "\n",
      "Epoch 00002: val_acc improved from 0.93319 to 0.94070, saving model to weights\n",
      "Epoch 3/50\n",
      "968519/968519 [==============================] - 41s 42us/step - loss: 0.1803 - acc: 0.9463 - val_loss: 0.1986 - val_acc: 0.9424\n",
      "\n",
      "Epoch 00003: val_acc improved from 0.94070 to 0.94241, saving model to weights\n",
      "Epoch 4/50\n",
      "968519/968519 [==============================] - 40s 42us/step - loss: 0.1656 - acc: 0.9506 - val_loss: 0.1862 - val_acc: 0.9459\n",
      "\n",
      "Epoch 00004: val_acc improved from 0.94241 to 0.94594, saving model to weights\n",
      "Epoch 5/50\n",
      "968519/968519 [==============================] - 41s 42us/step - loss: 0.1553 - acc: 0.9533 - val_loss: 0.1875 - val_acc: 0.9466\n",
      "\n",
      "Epoch 00005: val_acc improved from 0.94594 to 0.94664, saving model to weights\n",
      "Epoch 6/50\n",
      "855680/968519 [=========================>....] - ETA: 4s - loss: 0.1451 - acc: 0.9561"
     ]
    }
   ],
   "source": [
    "callbacks = [ModelCheckpoint('weights',\n",
    "                             monitor='val_acc',\n",
    "                             verbose=1,\n",
    "                             save_best_only=True,\n",
    "                            mode='auto')\n",
    "            ]\n",
    "model.compile(loss=\"categorical_crossentropy\", optimizer=keras.optimizers.Adam(), metrics=[\"acc\"])\n",
    "model.fit(X_train, y_train, batch_size = batch_size, epochs=epochs,\n",
    "                   callbacks=callbacks,\n",
    "                   validation_data=(X_valid, y_valid))"
   ]
  },
  {
   "cell_type": "code",
   "execution_count": 19,
   "metadata": {},
   "outputs": [
    {
     "name": "stdout",
     "output_type": "stream",
     "text": [
      "Test loss: 0.49725491054716614\n",
      "Test accuracy: 0.9433863377863021\n"
     ]
    }
   ],
   "source": [
    "test_eval = model.evaluate(X_test, y_test, verbose=0)\n",
    "print('Test loss:', test_eval[0])\n",
    "print('Test accuracy:', test_eval[1])"
   ]
  },
  {
   "cell_type": "code",
   "execution_count": null,
   "metadata": {},
   "outputs": [],
   "source": []
  }
 ],
 "metadata": {
  "kernelspec": {
   "display_name": "Python 3",
   "language": "python",
   "name": "python3"
  },
  "language_info": {
   "codemirror_mode": {
    "name": "ipython",
    "version": 3
   },
   "file_extension": ".py",
   "mimetype": "text/x-python",
   "name": "python",
   "nbconvert_exporter": "python",
   "pygments_lexer": "ipython3",
   "version": "3.6.4"
  }
 },
 "nbformat": 4,
 "nbformat_minor": 2
}
